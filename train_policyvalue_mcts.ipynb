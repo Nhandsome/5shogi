{
 "cells": [
  {
   "cell_type": "code",
   "execution_count": 1,
   "metadata": {},
   "outputs": [
    {
     "name": "stdout",
     "output_type": "stream",
     "text": [
      "Obtaining file:///Users/han/python-shogi\n",
      "Installing collected packages: python-shogi\n",
      "  Attempting uninstall: python-shogi\n",
      "    Found existing installation: python-shogi 1.0.14\n",
      "    Uninstalling python-shogi-1.0.14:\n",
      "      Successfully uninstalled python-shogi-1.0.14\n",
      "  Running setup.py develop for python-shogi\n",
      "Successfully installed python-shogi-1.0.14\n"
     ]
    }
   ],
   "source": [
    "!pip install --no-cache-dir -e ."
   ]
  },
  {
   "cell_type": "markdown",
   "metadata": {},
   "source": [
    "## Dataset Prep"
   ]
  },
  {
   "cell_type": "code",
   "execution_count": null,
   "metadata": {},
   "outputs": [],
   "source": [
    "# ! mkdir ./data/csa_files\n",
    "# ! cp -a ./data/games/*/*.csa './data/csa_files'\n",
    "# ! cp -a ./data/games/*/*/*.csa './data/csa_files'\n",
    "\n",
    "# ! python utils/filter_csa.py --dir ./data/csa_files\n",
    "\n",
    "# ! python utils/make_kifu_list.py ./data/csa_files './data/kifu_list'"
   ]
  },
  {
   "cell_type": "code",
   "execution_count": null,
   "metadata": {},
   "outputs": [],
   "source": []
  }
 ],
 "metadata": {
  "kernelspec": {
   "display_name": "Python 3.7.4 64-bit ('nhandsome_vscode': conda)",
   "language": "python",
   "name": "python37464bitnhandsomevscodeconda77d3a77a3efc4a4db975e8cab8804a1b"
  },
  "language_info": {
   "codemirror_mode": {
    "name": "ipython",
    "version": 3
   },
   "file_extension": ".py",
   "mimetype": "text/x-python",
   "name": "python",
   "nbconvert_exporter": "python",
   "pygments_lexer": "ipython3",
   "version": "3.7.4"
  }
 },
 "nbformat": 4,
 "nbformat_minor": 2
}
