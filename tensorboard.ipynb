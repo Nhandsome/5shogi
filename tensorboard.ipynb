{
 "cells": [
  {
   "cell_type": "code",
   "execution_count": 1,
   "metadata": {},
   "outputs": [],
   "source": [
    "import tensorboard"
   ]
  },
  {
   "cell_type": "code",
   "execution_count": 2,
   "metadata": {},
   "outputs": [
    {
     "name": "stdout",
     "output_type": "stream",
     "text": [
      "LICENSE                kifu_list_test.pickle  \u001b[34mshogi\u001b[m\u001b[m\r\n",
      "Makefile               kifu_list_train.pickle test_jupyter.ipynb\r\n",
      "README.rst             \u001b[34mpython_shogi.egg-info\u001b[m\u001b[m  \u001b[34mtests\u001b[m\u001b[m\r\n",
      "Untitled.ipynb         requirements.txt       tox.ini\r\n",
      "Untitled1.ipynb        \u001b[34mruns\u001b[m\u001b[m                   \u001b[34mutils\u001b[m\u001b[m\r\n",
      "\u001b[34mcheckpoint\u001b[m\u001b[m             \u001b[34mscripts\u001b[m\u001b[m\r\n",
      "\u001b[34mdata\u001b[m\u001b[m                   setup.py\r\n"
     ]
    }
   ],
   "source": [
    "!ls"
   ]
  },
  {
   "cell_type": "code",
   "execution_count": 3,
   "metadata": {},
   "outputs": [
    {
     "data": {
      "text/html": [
       "\n",
       "      <iframe id=\"tensorboard-frame-4a2fd97891ebf262\" width=\"100%\" height=\"800\" frameborder=\"0\">\n",
       "      </iframe>\n",
       "      <script>\n",
       "        (function() {\n",
       "          const frame = document.getElementById(\"tensorboard-frame-4a2fd97891ebf262\");\n",
       "          const url = new URL(\"/\", window.location);\n",
       "          url.port = 6006;\n",
       "          frame.src = url;\n",
       "        })();\n",
       "      </script>\n",
       "  "
      ],
      "text/plain": [
       "<IPython.core.display.HTML object>"
      ]
     },
     "metadata": {},
     "output_type": "display_data"
    }
   ],
   "source": [
    "%load_ext tensorboard\n",
    "\n",
    "%tensorboard --logdir runs"
   ]
  },
  {
   "cell_type": "code",
   "execution_count": null,
   "metadata": {},
   "outputs": [],
   "source": []
  }
 ],
 "metadata": {
  "kernelspec": {
   "display_name": "Python 3.7.4 64-bit ('nhandsome_vscode': conda)",
   "language": "python",
   "name": "python37464bitnhandsomevscodeconda77d3a77a3efc4a4db975e8cab8804a1b"
  },
  "language_info": {
   "codemirror_mode": {
    "name": "ipython",
    "version": 3
   },
   "file_extension": ".py",
   "mimetype": "text/x-python",
   "name": "python",
   "nbconvert_exporter": "python",
   "pygments_lexer": "ipython3",
   "version": "3.7.4"
  }
 },
 "nbformat": 4,
 "nbformat_minor": 2
}
